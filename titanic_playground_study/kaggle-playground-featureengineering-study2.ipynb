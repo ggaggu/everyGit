{
 "cells": [
  {
   "cell_type": "code",
   "execution_count": 1,
   "id": "accomplished-parking",
   "metadata": {
    "_cell_guid": "b1076dfc-b9ad-4769-8c92-a6c4dae69d19",
    "_kg_hide-output": true,
    "_uuid": "8f2839f25d086af736a60e9eeb907d3b93b6e0e5",
    "execution": {
     "iopub.execute_input": "2021-04-26T05:54:57.101198Z",
     "iopub.status.busy": "2021-04-26T05:54:57.100483Z",
     "iopub.status.idle": "2021-04-26T05:54:57.123381Z",
     "shell.execute_reply": "2021-04-26T05:54:57.123766Z"
    },
    "papermill": {
     "duration": 0.058535,
     "end_time": "2021-04-26T05:54:57.123999",
     "exception": false,
     "start_time": "2021-04-26T05:54:57.065464",
     "status": "completed"
    },
    "tags": []
   },
   "outputs": [
    {
     "name": "stdout",
     "output_type": "stream",
     "text": [
      "/kaggle/input/tabular-playground-series-apr-2021/sample_submission.csv\n",
      "/kaggle/input/tabular-playground-series-apr-2021/train.csv\n",
      "/kaggle/input/tabular-playground-series-apr-2021/test.csv\n",
      "/kaggle/input/submission-merged3/submission_lightgbm.csv\n",
      "/kaggle/input/submission-merged3/submission_catboost.csv\n",
      "/kaggle/input/submission-merged3/submission_merged3.csv\n",
      "/kaggle/input/submission-merged3/catboost_info/learn_error.tsv\n",
      "/kaggle/input/submission-merged3/catboost_info/catboost_training.json\n",
      "/kaggle/input/submission-merged3/catboost_info/time_left.tsv\n",
      "/kaggle/input/submission-merged3/catboost_info/learn/events.out.tfevents\n"
     ]
    }
   ],
   "source": [
    "# This Python 3 environment comes with many helpful analytics libraries installed\n",
    "# It is defined by the kaggle/python Docker image: https://github.com/kaggle/docker-python\n",
    "# For example, here's several helpful packages to load\n",
    "\n",
    "import numpy as np # linear algebra\n",
    "import pandas as pd # data processing, CSV file I/O (e.g. pd.read_csv)\n",
    "\n",
    "# Input data files are available in the read-only \"../input/\" directory\n",
    "# For example, running this (by clicking run or pressing Shift+Enter) will list all files under the input directory\n",
    "\n",
    "import os\n",
    "for dirname, _, filenames in os.walk('/kaggle/input'):\n",
    "    for filename in filenames:\n",
    "        print(os.path.join(dirname, filename))\n",
    "\n",
    "# You can write up to 20GB to the current directory (/kaggle/working/) that gets preserved as output when you create a version using \"Save & Run All\" \n",
    "# You can also write temporary files to /kaggle/temp/, but they won't be saved outside of the current session"
   ]
  },
  {
   "cell_type": "code",
   "execution_count": null,
   "id": "assisted-string",
   "metadata": {
    "papermill": {
     "duration": 0.028271,
     "end_time": "2021-04-26T05:54:57.182824",
     "exception": false,
     "start_time": "2021-04-26T05:54:57.154553",
     "status": "completed"
    },
    "tags": []
   },
   "outputs": [],
   "source": []
  },
  {
   "cell_type": "markdown",
   "id": "communist-queue",
   "metadata": {
    "papermill": {
     "duration": 0.0277,
     "end_time": "2021-04-26T05:54:57.239108",
     "exception": false,
     "start_time": "2021-04-26T05:54:57.211408",
     "status": "completed"
    },
    "tags": []
   },
   "source": [
    "https://www.kaggle.com/udbhavpangotra/tps-apr21-eda-model\n",
    "\n",
    "\n",
    "https://www.kaggle.com/hiro5299834/tps-apr-2021-voting-pseudo-labeling"
   ]
  },
  {
   "cell_type": "code",
   "execution_count": null,
   "id": "impressed-favor",
   "metadata": {
    "papermill": {
     "duration": 0.027814,
     "end_time": "2021-04-26T05:54:57.294913",
     "exception": false,
     "start_time": "2021-04-26T05:54:57.267099",
     "status": "completed"
    },
    "tags": []
   },
   "outputs": [],
   "source": []
  },
  {
   "cell_type": "markdown",
   "id": "natural-curve",
   "metadata": {
    "papermill": {
     "duration": 0.02755,
     "end_time": "2021-04-26T05:54:57.350488",
     "exception": false,
     "start_time": "2021-04-26T05:54:57.322938",
     "status": "completed"
    },
    "tags": []
   },
   "source": [
    "# KAGGLE 스터디 "
   ]
  },
  {
   "cell_type": "code",
   "execution_count": 2,
   "id": "numerical-scratch",
   "metadata": {
    "_kg_hide-input": true,
    "execution": {
     "iopub.execute_input": "2021-04-26T05:54:57.413745Z",
     "iopub.status.busy": "2021-04-26T05:54:57.413067Z",
     "iopub.status.idle": "2021-04-26T05:54:58.723908Z",
     "shell.execute_reply": "2021-04-26T05:54:58.723404Z"
    },
    "papermill": {
     "duration": 1.344131,
     "end_time": "2021-04-26T05:54:58.724030",
     "exception": false,
     "start_time": "2021-04-26T05:54:57.379899",
     "status": "completed"
    },
    "tags": []
   },
   "outputs": [
    {
     "data": {
      "text/html": [
       "<style type='text/css'>\n",
       ".datatable table.frame { margin-bottom: 0; }\n",
       ".datatable table.frame thead { border-bottom: none; }\n",
       ".datatable table.frame tr.coltypes td {  color: #FFFFFF;  line-height: 6px;  padding: 0 0.5em;}\n",
       ".datatable .bool    { background: #DDDD99; }\n",
       ".datatable .object  { background: #565656; }\n",
       ".datatable .int     { background: #5D9E5D; }\n",
       ".datatable .float   { background: #4040CC; }\n",
       ".datatable .str     { background: #CC4040; }\n",
       ".datatable .row_index {  background: var(--jp-border-color3);  border-right: 1px solid var(--jp-border-color0);  color: var(--jp-ui-font-color3);  font-size: 9px;}\n",
       ".datatable .frame tr.coltypes .row_index {  background: var(--jp-border-color0);}\n",
       ".datatable th:nth-child(2) { padding-left: 12px; }\n",
       ".datatable .hellipsis {  color: var(--jp-cell-editor-border-color);}\n",
       ".datatable .vellipsis {  background: var(--jp-layout-color0);  color: var(--jp-cell-editor-border-color);}\n",
       ".datatable .na {  color: var(--jp-cell-editor-border-color);  font-size: 80%;}\n",
       ".datatable .footer { font-size: 9px; }\n",
       ".datatable .frame_dimensions {  background: var(--jp-border-color3);  border-top: 1px solid var(--jp-border-color0);  color: var(--jp-ui-font-color3);  display: inline-block;  opacity: 0.6;  padding: 1px 10px 1px 5px;}\n",
       "</style>\n"
      ],
      "text/plain": [
       "<IPython.core.display.HTML object>"
      ]
     },
     "metadata": {},
     "output_type": "display_data"
    }
   ],
   "source": [
    "import pandas as pd\n",
    "import numpy as np\n",
    "import random\n",
    "import os\n",
    "\n",
    "from sklearn.metrics import accuracy_score\n",
    "from sklearn.preprocessing import LabelEncoder, StandardScaler\n",
    "from sklearn.model_selection import train_test_split, KFold, StratifiedKFold\n",
    "\n",
    "import lightgbm as lgb\n",
    "import catboost as ctb\n",
    "from sklearn.model_selection import GridSearchCV\n",
    "from sklearn.tree import DecisionTreeClassifier, export_graphviz\n",
    "\n",
    "import graphviz\n",
    "import matplotlib.pyplot as plt\n",
    "import seaborn as sns\n",
    "\n",
    "import warnings\n",
    "warnings.simplefilter('ignore')"
   ]
  },
  {
   "cell_type": "code",
   "execution_count": 3,
   "id": "executed-chest",
   "metadata": {
    "_kg_hide-input": true,
    "execution": {
     "iopub.execute_input": "2021-04-26T05:54:58.786515Z",
     "iopub.status.busy": "2021-04-26T05:54:58.785772Z",
     "iopub.status.idle": "2021-04-26T05:54:58.788675Z",
     "shell.execute_reply": "2021-04-26T05:54:58.788270Z"
    },
    "papermill": {
     "duration": 0.035323,
     "end_time": "2021-04-26T05:54:58.788784",
     "exception": false,
     "start_time": "2021-04-26T05:54:58.753461",
     "status": "completed"
    },
    "tags": []
   },
   "outputs": [],
   "source": [
    "TARGET = 'Survived'\n",
    "\n",
    "N_ESTIMATORS = 1000\n",
    "N_SPLITS = 10\n",
    "SEED = 2021\n",
    "EARLY_STOPPING_ROUNDS = 100\n",
    "VERBOSE = 100"
   ]
  },
  {
   "cell_type": "code",
   "execution_count": 4,
   "id": "palestinian-bride",
   "metadata": {
    "_kg_hide-input": true,
    "execution": {
     "iopub.execute_input": "2021-04-26T05:54:58.851492Z",
     "iopub.status.busy": "2021-04-26T05:54:58.850824Z",
     "iopub.status.idle": "2021-04-26T05:54:58.853256Z",
     "shell.execute_reply": "2021-04-26T05:54:58.853629Z"
    },
    "papermill": {
     "duration": 0.035477,
     "end_time": "2021-04-26T05:54:58.853752",
     "exception": false,
     "start_time": "2021-04-26T05:54:58.818275",
     "status": "completed"
    },
    "tags": []
   },
   "outputs": [],
   "source": [
    "#랜덤 시드 생성\n",
    "def set_seed(seed=42):\n",
    "    random.seed(seed)\n",
    "    os.environ['PYTHONHASHSEED'] = str(seed)\n",
    "    np.random.seed(seed)\n",
    "    \n",
    "set_seed(SEED)"
   ]
  },
  {
   "cell_type": "markdown",
   "id": "cultural-criminal",
   "metadata": {
    "papermill": {
     "duration": 0.028541,
     "end_time": "2021-04-26T05:54:58.910999",
     "exception": false,
     "start_time": "2021-04-26T05:54:58.882458",
     "status": "completed"
    },
    "tags": []
   },
   "source": [
    "## 데이터 전처리"
   ]
  },
  {
   "cell_type": "markdown",
   "id": "solar-abraham",
   "metadata": {
    "papermill": {
     "duration": 0.028666,
     "end_time": "2021-04-26T05:54:58.968529",
     "exception": false,
     "start_time": "2021-04-26T05:54:58.939863",
     "status": "completed"
    },
    "tags": []
   },
   "source": [
    "### lode data"
   ]
  },
  {
   "cell_type": "code",
   "execution_count": 5,
   "id": "polished-diary",
   "metadata": {
    "_kg_hide-input": true,
    "execution": {
     "iopub.execute_input": "2021-04-26T05:54:59.032409Z",
     "iopub.status.busy": "2021-04-26T05:54:59.031836Z",
     "iopub.status.idle": "2021-04-26T05:54:59.545931Z",
     "shell.execute_reply": "2021-04-26T05:54:59.545331Z"
    },
    "papermill": {
     "duration": 0.548649,
     "end_time": "2021-04-26T05:54:59.546067",
     "exception": false,
     "start_time": "2021-04-26T05:54:58.997418",
     "status": "completed"
    },
    "tags": []
   },
   "outputs": [],
   "source": [
    "train_df = pd.read_csv('../input/tabular-playground-series-apr-2021/train.csv')\n",
    "test_df = pd.read_csv('../input/tabular-playground-series-apr-2021/test.csv')\n",
    "submission = pd.read_csv('../input/tabular-playground-series-apr-2021/sample_submission.csv')\n",
    "#test_df['Survived'] = pd.read_csv(\"../input/submission-merged3/submission_merged3.csv\")['Survived']\n",
    "\n",
    "all_df = pd.concat([train_df, test_df]).reset_index(drop=True)\n",
    "#reset_index : 인덱스를 세팅한다. drop=True를 하면 인덱스를 세팅한걸 삭제함. \n"
   ]
  },
  {
   "cell_type": "code",
   "execution_count": 6,
   "id": "fatal-salem",
   "metadata": {
    "_kg_hide-input": true,
    "execution": {
     "iopub.execute_input": "2021-04-26T05:54:59.608579Z",
     "iopub.status.busy": "2021-04-26T05:54:59.607736Z",
     "iopub.status.idle": "2021-04-26T05:54:59.612092Z",
     "shell.execute_reply": "2021-04-26T05:54:59.611690Z"
    },
    "papermill": {
     "duration": 0.037124,
     "end_time": "2021-04-26T05:54:59.612203",
     "exception": false,
     "start_time": "2021-04-26T05:54:59.575079",
     "status": "completed"
    },
    "tags": []
   },
   "outputs": [
    {
     "name": "stdout",
     "output_type": "stream",
     "text": [
      "Rows and Columns in train dataset: (100000, 12)\n",
      "Rows and Columns in test dataset: (100000, 11)\n"
     ]
    }
   ],
   "source": [
    "print('Rows and Columns in train dataset:', train_df.shape)\n",
    "print('Rows and Columns in test dataset:', test_df.shape)"
   ]
  },
  {
   "cell_type": "markdown",
   "id": "golden-being",
   "metadata": {
    "papermill": {
     "duration": 0.028776,
     "end_time": "2021-04-26T05:54:59.669892",
     "exception": false,
     "start_time": "2021-04-26T05:54:59.641116",
     "status": "completed"
    },
    "tags": []
   },
   "source": [
    "### 결측치 갯수 출력"
   ]
  },
  {
   "cell_type": "code",
   "execution_count": 7,
   "id": "banned-cassette",
   "metadata": {
    "_kg_hide-input": true,
    "execution": {
     "iopub.execute_input": "2021-04-26T05:54:59.733673Z",
     "iopub.status.busy": "2021-04-26T05:54:59.732969Z",
     "iopub.status.idle": "2021-04-26T05:54:59.828645Z",
     "shell.execute_reply": "2021-04-26T05:54:59.829025Z"
    },
    "papermill": {
     "duration": 0.130047,
     "end_time": "2021-04-26T05:54:59.829162",
     "exception": false,
     "start_time": "2021-04-26T05:54:59.699115",
     "status": "completed"
    },
    "tags": []
   },
   "outputs": [
    {
     "name": "stdout",
     "output_type": "stream",
     "text": [
      "Missing values per columns in train dataset\n",
      "PassengerId: 0\n",
      "Survived: 0\n",
      "Pclass: 0\n",
      "Name: 0\n",
      "Sex: 0\n",
      "Age: 3292\n",
      "SibSp: 0\n",
      "Parch: 0\n",
      "Ticket: 4623\n",
      "Fare: 134\n",
      "Cabin: 67866\n",
      "Embarked: 250\n",
      "\n",
      "Missing values per columns in test dataset\n",
      "PassengerId: 0\n",
      "Pclass: 0\n",
      "Name: 0\n",
      "Sex: 0\n",
      "Age: 3487\n",
      "SibSp: 0\n",
      "Parch: 0\n",
      "Ticket: 5181\n",
      "Fare: 133\n",
      "Cabin: 70831\n",
      "Embarked: 277\n"
     ]
    }
   ],
   "source": [
    "print('Missing values per columns in train dataset')\n",
    "for col in train_df.columns:\n",
    "    temp_col = train_df[col].isnull().sum()\n",
    "    print(f'{col}: {temp_col}')\n",
    "print()\n",
    "print('Missing values per columns in test dataset')\n",
    "for col in test_df.columns:\n",
    "    temp_col = test_df[col].isnull().sum()\n",
    "    print(f'{col}: {temp_col}')"
   ]
  },
  {
   "cell_type": "markdown",
   "id": "former-saint",
   "metadata": {
    "papermill": {
     "duration": 0.042763,
     "end_time": "2021-04-26T05:54:59.902032",
     "exception": false,
     "start_time": "2021-04-26T05:54:59.859269",
     "status": "completed"
    },
    "tags": []
   },
   "source": [
    "### Filling missing values"
   ]
  },
  {
   "cell_type": "code",
   "execution_count": 8,
   "id": "female-twelve",
   "metadata": {
    "_kg_hide-input": true,
    "execution": {
     "iopub.execute_input": "2021-04-26T05:54:59.971455Z",
     "iopub.status.busy": "2021-04-26T05:54:59.970303Z",
     "iopub.status.idle": "2021-04-26T05:55:00.346301Z",
     "shell.execute_reply": "2021-04-26T05:55:00.344981Z"
    },
    "papermill": {
     "duration": 0.414007,
     "end_time": "2021-04-26T05:55:00.346446",
     "exception": false,
     "start_time": "2021-04-26T05:54:59.932439",
     "status": "completed"
    },
    "tags": []
   },
   "outputs": [],
   "source": [
    "#나이는 나이의 평균치로 채운다.\n",
    "all_df['Age'] = all_df['Age'].fillna(all_df['Age'].mean())\n",
    "\n",
    "#cabin은 문자열을 분할하고, 제일 첫번째 글자를 따와서 넣는다. 결측치엔 X를 넣는다.\n",
    "#strip() : 양쪽 공백을 지운다. 여기서느 x[0]외엔 다 지우는듯. \n",
    "all_df['Cabin'] = all_df['Cabin'].fillna('X').map(lambda x: x[0].strip())\n",
    "\n",
    "\n",
    "#print(all_df['Ticket'].head(10))\n",
    "#Ticket, fillna with 'X', split string and take first split \n",
    "#split() : 문자열 나누기. 디폴트는 ' '이고, 문자를 가진 데이터들이 전부 띄워쓰기로 구분되어있기때문에 가능. \n",
    "all_df['Ticket'] = all_df['Ticket'].fillna('X').map(lambda x:str(x).split()[0] if len(str(x).split()) > 1 else 'X')\n",
    "\n",
    "#pclass에 따른 Fare의 평균을 구해서 dictionary형태로 만든다. \n",
    "fare_map = all_df[['Fare', 'Pclass']].dropna().groupby('Pclass').median().to_dict()\n",
    "#fare의 결측치에 본인 행의 pclass 값을 넣고, 그 값을 fare 평균에 맵핑시킨다.  \n",
    "all_df['Fare'] = all_df['Fare'].fillna(all_df['Pclass'].map(fare_map['Fare']))\n",
    "#유독 높은 가격이나 낮은 가격이 있기때문에, 이상치의 영향을 줄이기 위해서 Fare에 log를 취해준다.\n",
    "all_df['Fare'] = np.log1p(all_df['Fare'])\n",
    "\n",
    "\n",
    "#항구의 결측치를 X로 채운다. \n",
    "all_df['Embarked'] = all_df['Embarked'].fillna('X')\n",
    "\n",
    "#이름은 성만 사용한다.\n",
    "all_df['Name'] = all_df['Name'].map(lambda x: x.split(',')[0])\n"
   ]
  },
  {
   "cell_type": "code",
   "execution_count": 9,
   "id": "transsexual-single",
   "metadata": {
    "_kg_hide-input": true,
    "execution": {
     "iopub.execute_input": "2021-04-26T05:55:00.413680Z",
     "iopub.status.busy": "2021-04-26T05:55:00.412861Z",
     "iopub.status.idle": "2021-04-26T05:55:00.483845Z",
     "shell.execute_reply": "2021-04-26T05:55:00.484324Z"
    },
    "papermill": {
     "duration": 0.107593,
     "end_time": "2021-04-26T05:55:00.484482",
     "exception": false,
     "start_time": "2021-04-26T05:55:00.376889",
     "status": "completed"
    },
    "tags": []
   },
   "outputs": [
    {
     "name": "stdout",
     "output_type": "stream",
     "text": [
      "Ticket\n",
      "X             36336\n",
      "PC            16814\n",
      "C.A.            338\n",
      "SC/Paris        334\n",
      "SC/PARIS        260\n",
      "W./C.           206\n",
      "S.O.C.          192\n",
      "S.C./PARIS      191\n",
      "PP              186\n",
      "F.C.            183\n",
      "SC/AH           178\n",
      "F.C.C.          167\n",
      "STON/O          163\n",
      "CA.             161\n",
      "SOTON/O.Q.      123\n",
      "A/4             115\n",
      "A/5.            108\n",
      "W.E.P.           94\n",
      "WE/P             92\n",
      "SOTON/OQ         87\n",
      "STON/O2.         81\n",
      "CA               81\n",
      "A/5              70\n",
      "C                67\n",
      "A/4.             66\n",
      "P/PP             66\n",
      "SC               59\n",
      "SOTON/O2         48\n",
      "A./5.            46\n",
      "S.O./P.P.        40\n",
      "A.5.             33\n",
      "AQ/4             27\n",
      "A/S              23\n",
      "SCO/W            19\n",
      "S.P.             17\n",
      "SC/A4            16\n",
      "SW/PP            16\n",
      "S.O.P.           15\n",
      "SC/A.3           15\n",
      "SO/C             14\n",
      "S.C./A.4.        14\n",
      "C.A./SOTON       14\n",
      "A.               14\n",
      "STON/OQ.         13\n",
      "W/C              13\n",
      "S.W./PP          11\n",
      "LP               11\n",
      "AQ/3.             8\n",
      "Fa                7\n",
      "A4.               6\n",
      "Name: Ticket, dtype: int64\n",
      "\n",
      "Ticket\n",
      "X             31337\n",
      "A.              997\n",
      "C.A.            717\n",
      "SC/PARIS        470\n",
      "STON/O          387\n",
      "PC              330\n",
      "S.O.C.          313\n",
      "PP              308\n",
      "SC/AH           284\n",
      "W./C.           259\n",
      "SOTON/O.Q.      219\n",
      "F.C.C.          203\n",
      "A/5.            200\n",
      "A/4             152\n",
      "SC/Paris        135\n",
      "S.C./PARIS      119\n",
      "SOTON/O2        112\n",
      "CA.             107\n",
      "STON/O2.        106\n",
      "C               104\n",
      "F.C.            100\n",
      "WE/P             92\n",
      "SOTON/OQ         86\n",
      "A/5              82\n",
      "CA               66\n",
      "W.E.P.           60\n",
      "A./5.            60\n",
      "S.O./P.P.        54\n",
      "P/PP             50\n",
      "A/4.             46\n",
      "SCO/W            36\n",
      "SC               33\n",
      "A.5.             29\n",
      "AQ/4             29\n",
      "LP               25\n",
      "SC/A.3           20\n",
      "A/S              19\n",
      "C.A./SOTON       19\n",
      "SC/A4            17\n",
      "Fa               15\n",
      "S.C./A.4.        13\n",
      "S.W./PP          13\n",
      "SO/C             13\n",
      "STON/OQ.         12\n",
      "W/C              11\n",
      "S.P.             10\n",
      "S.O.P.            9\n",
      "SW/PP             9\n",
      "A4.               7\n",
      "AQ/3.             6\n",
      "Name: Ticket, dtype: int64\n",
      "\n",
      "Ticket\n",
      "X             84781\n",
      "A.             6420\n",
      "C.A.           2615\n",
      "STON/O         1508\n",
      "A/5.            918\n",
      "SOTON/O.Q.      719\n",
      "PP              679\n",
      "SC/PARIS        642\n",
      "W./C.           623\n",
      "PC              595\n",
      "F.C.C.          541\n",
      "A/5             420\n",
      "CA.             368\n",
      "STON/O2.        363\n",
      "SC/AH           331\n",
      "A/4             268\n",
      "SOTON/O2        264\n",
      "S.O.C.          231\n",
      "C               227\n",
      "SC/Paris        177\n",
      "S.O./P.P.       177\n",
      "CA              172\n",
      "SOTON/OQ        172\n",
      "W.E.P.          154\n",
      "F.C.            131\n",
      "S.C./PARIS      127\n",
      "A./5.           122\n",
      "WE/P            121\n",
      "SC              106\n",
      "A/4.            104\n",
      "SCO/W            74\n",
      "A.5.             72\n",
      "P/PP             68\n",
      "SC/A4            67\n",
      "AQ/4             56\n",
      "LP               41\n",
      "Fa               37\n",
      "STON/OQ.         37\n",
      "S.W./PP          32\n",
      "SC/A.3           31\n",
      "C.A./SOTON       31\n",
      "SW/PP            30\n",
      "SO/C             28\n",
      "A/S              28\n",
      "AQ/3.            26\n",
      "S.P.             24\n",
      "S.C./A.4.        23\n",
      "S.O.P.           21\n",
      "A4.              20\n",
      "W/C              20\n",
      "Name: Ticket, dtype: int64\n",
      "\n"
     ]
    }
   ],
   "source": [
    "data_1=all_df.loc[all_df['Pclass']==1].groupby('Ticket')['Ticket'].count().sort_values(ascending=False)\n",
    "print(data_1)\n",
    "print()\n",
    "data_2=all_df.loc[all_df['Pclass']==2].groupby('Ticket')['Ticket'].count().sort_values(ascending=False)\n",
    "print(data_2)\n",
    "print()\n",
    "data_3=all_df.loc[all_df['Pclass']==3].groupby('Ticket')['Ticket'].count().sort_values(ascending=False)\n",
    "print(data_3)\n",
    "print()"
   ]
  },
  {
   "cell_type": "markdown",
   "id": "golden-military",
   "metadata": {
    "papermill": {
     "duration": 0.030554,
     "end_time": "2021-04-26T05:55:00.545740",
     "exception": false,
     "start_time": "2021-04-26T05:55:00.515186",
     "status": "completed"
    },
    "tags": []
   },
   "source": [
    "## 인코딩 "
   ]
  },
  {
   "cell_type": "markdown",
   "id": "eleven-lending",
   "metadata": {
    "papermill": {
     "duration": 0.030397,
     "end_time": "2021-04-26T05:55:00.606837",
     "exception": false,
     "start_time": "2021-04-26T05:55:00.576440",
     "status": "completed"
    },
    "tags": []
   },
   "source": [
    "변수별로 인코딩을 다르게 해준다. "
   ]
  },
  {
   "cell_type": "code",
   "execution_count": 10,
   "id": "aerial-origin",
   "metadata": {
    "_kg_hide-input": true,
    "execution": {
     "iopub.execute_input": "2021-04-26T05:55:00.672718Z",
     "iopub.status.busy": "2021-04-26T05:55:00.671959Z",
     "iopub.status.idle": "2021-04-26T05:55:00.674042Z",
     "shell.execute_reply": "2021-04-26T05:55:00.674902Z"
    },
    "papermill": {
     "duration": 0.037536,
     "end_time": "2021-04-26T05:55:00.675030",
     "exception": false,
     "start_time": "2021-04-26T05:55:00.637494",
     "status": "completed"
    },
    "tags": []
   },
   "outputs": [],
   "source": [
    "label_cols = ['Name', 'Ticket', 'Sex','Pclass','Embarked']\n",
    "onehot_cols = [ 'Cabin',]\n",
    "numerical_cols = [ 'Age', 'SibSp', 'Parch', 'Fare']"
   ]
  },
  {
   "cell_type": "code",
   "execution_count": 11,
   "id": "functioning-brook",
   "metadata": {
    "_kg_hide-input": true,
    "execution": {
     "iopub.execute_input": "2021-04-26T05:55:00.741582Z",
     "iopub.status.busy": "2021-04-26T05:55:00.739833Z",
     "iopub.status.idle": "2021-04-26T05:55:00.742168Z",
     "shell.execute_reply": "2021-04-26T05:55:00.742579Z"
    },
    "papermill": {
     "duration": 0.0373,
     "end_time": "2021-04-26T05:55:00.742702",
     "exception": false,
     "start_time": "2021-04-26T05:55:00.705402",
     "status": "completed"
    },
    "tags": []
   },
   "outputs": [],
   "source": [
    "#라벨 인코딩 함수. c라는 매개변수를 받아서 맞게 트렌스폼 해준다. \n",
    "def label_encoder(c):\n",
    "    le = LabelEncoder()\n",
    "    return le.fit_transform(c)"
   ]
  },
  {
   "cell_type": "code",
   "execution_count": 12,
   "id": "defined-arrival",
   "metadata": {
    "_kg_hide-input": true,
    "execution": {
     "iopub.execute_input": "2021-04-26T05:55:00.811084Z",
     "iopub.status.busy": "2021-04-26T05:55:00.810583Z",
     "iopub.status.idle": "2021-04-26T05:55:01.221362Z",
     "shell.execute_reply": "2021-04-26T05:55:01.220853Z"
    },
    "papermill": {
     "duration": 0.447516,
     "end_time": "2021-04-26T05:55:01.221498",
     "exception": false,
     "start_time": "2021-04-26T05:55:00.773982",
     "status": "completed"
    },
    "tags": []
   },
   "outputs": [],
   "source": [
    "\n",
    "#StandardScaler(): 평균을 제거하고 데이터를 단위 분산으로 조정한다. \n",
    "#그러나 이상치가 있다면 평균과 표준편차에 영향을 미쳐 변환된 데이터의 확산은 매우 달라지게 되는 함수\n",
    "scaler = StandardScaler()\n",
    "\n",
    "onehot_encoded_df = pd.get_dummies(all_df[onehot_cols])\n",
    "label_encoded_df = all_df[label_cols].apply(label_encoder)\n",
    "numerical_df = pd.DataFrame(scaler.fit_transform(all_df[numerical_cols]), columns=numerical_cols)\n",
    "target_df = all_df[TARGET]\n",
    "\n",
    "all_df = pd.concat([numerical_df, label_encoded_df,onehot_encoded_df, target_df], axis=1)\n",
    "#all_df = pd.concat([numerical_df, label_encoded_df, target_df], axis=1)"
   ]
  },
  {
   "cell_type": "markdown",
   "id": "standard-fiction",
   "metadata": {
    "papermill": {
     "duration": 0.030806,
     "end_time": "2021-04-26T05:55:01.283428",
     "exception": false,
     "start_time": "2021-04-26T05:55:01.252622",
     "status": "completed"
    },
    "tags": []
   },
   "source": [
    "## 모델링"
   ]
  },
  {
   "cell_type": "code",
   "execution_count": 13,
   "id": "representative-mexican",
   "metadata": {
    "execution": {
     "iopub.execute_input": "2021-04-26T05:55:01.348803Z",
     "iopub.status.busy": "2021-04-26T05:55:01.348273Z",
     "iopub.status.idle": "2021-04-26T05:55:01.352018Z",
     "shell.execute_reply": "2021-04-26T05:55:01.351566Z"
    },
    "papermill": {
     "duration": 0.037992,
     "end_time": "2021-04-26T05:55:01.352121",
     "exception": false,
     "start_time": "2021-04-26T05:55:01.314129",
     "status": "completed"
    },
    "tags": []
   },
   "outputs": [],
   "source": [
    "drop_list=['Survived','Parch']"
   ]
  },
  {
   "cell_type": "markdown",
   "id": "interracial-jones",
   "metadata": {
    "papermill": {
     "duration": 0.030575,
     "end_time": "2021-04-26T05:55:01.413664",
     "exception": false,
     "start_time": "2021-04-26T05:55:01.383089",
     "status": "completed"
    },
    "tags": []
   },
   "source": [
    "## not pseudo"
   ]
  },
  {
   "cell_type": "code",
   "execution_count": 14,
   "id": "celtic-triumph",
   "metadata": {
    "_kg_hide-input": false,
    "execution": {
     "iopub.execute_input": "2021-04-26T05:55:01.481092Z",
     "iopub.status.busy": "2021-04-26T05:55:01.480209Z",
     "iopub.status.idle": "2021-04-26T05:55:01.490590Z",
     "shell.execute_reply": "2021-04-26T05:55:01.490963Z"
    },
    "papermill": {
     "duration": 0.046588,
     "end_time": "2021-04-26T05:55:01.491096",
     "exception": false,
     "start_time": "2021-04-26T05:55:01.444508",
     "status": "completed"
    },
    "tags": []
   },
   "outputs": [],
   "source": [
    "train = all_df.iloc[:100000, :]#0개~100000개\n",
    "test = all_df.iloc[100000:, :] #100000개~ \n",
    "#iloc은 정수형 인덱싱\n",
    "test = test.drop('Survived', axis=1) #test에서 종속변수를 드랍한다. \n",
    "model_results = pd.DataFrame()\n",
    "folds = 5"
   ]
  },
  {
   "cell_type": "code",
   "execution_count": 15,
   "id": "fabulous-baking",
   "metadata": {
    "_kg_hide-input": false,
    "execution": {
     "iopub.execute_input": "2021-04-26T05:55:01.558009Z",
     "iopub.status.busy": "2021-04-26T05:55:01.557148Z",
     "iopub.status.idle": "2021-04-26T05:55:01.566168Z",
     "shell.execute_reply": "2021-04-26T05:55:01.565683Z"
    },
    "papermill": {
     "duration": 0.044305,
     "end_time": "2021-04-26T05:55:01.566287",
     "exception": false,
     "start_time": "2021-04-26T05:55:01.521982",
     "status": "completed"
    },
    "tags": []
   },
   "outputs": [],
   "source": [
    "y= train.loc[:,'Survived']\n",
    "X= train.drop(drop_list,axis=1)"
   ]
  },
  {
   "cell_type": "markdown",
   "id": "pharmaceutical-strand",
   "metadata": {
    "papermill": {
     "duration": 0.030972,
     "end_time": "2021-04-26T05:55:01.628340",
     "exception": false,
     "start_time": "2021-04-26T05:55:01.597368",
     "status": "completed"
    },
    "tags": []
   },
   "source": [
    "## pseudo"
   ]
  },
  {
   "cell_type": "code",
   "execution_count": 16,
   "id": "damaged-empty",
   "metadata": {
    "_kg_hide-input": true,
    "execution": {
     "iopub.execute_input": "2021-04-26T05:55:01.693540Z",
     "iopub.status.busy": "2021-04-26T05:55:01.692999Z",
     "iopub.status.idle": "2021-04-26T05:55:01.696870Z",
     "shell.execute_reply": "2021-04-26T05:55:01.696472Z"
    },
    "papermill": {
     "duration": 0.037729,
     "end_time": "2021-04-26T05:55:01.696984",
     "exception": false,
     "start_time": "2021-04-26T05:55:01.659255",
     "status": "completed"
    },
    "tags": []
   },
   "outputs": [],
   "source": [
    "# y=all_df.loc[:,'Survived']\n",
    "# X=all_df.drop('Survived',axis=1)"
   ]
  },
  {
   "cell_type": "code",
   "execution_count": 17,
   "id": "facial-twenty",
   "metadata": {
    "_kg_hide-input": true,
    "execution": {
     "iopub.execute_input": "2021-04-26T05:55:01.765830Z",
     "iopub.status.busy": "2021-04-26T05:55:01.763267Z",
     "iopub.status.idle": "2021-04-26T05:55:01.786069Z",
     "shell.execute_reply": "2021-04-26T05:55:01.785651Z"
    },
    "papermill": {
     "duration": 0.057989,
     "end_time": "2021-04-26T05:55:01.786179",
     "exception": false,
     "start_time": "2021-04-26T05:55:01.728190",
     "status": "completed"
    },
    "tags": []
   },
   "outputs": [],
   "source": [
    "X_train, X_valid, y_train, y_valid = train_test_split(X,y,test_size=0.25, random_state=21)\n"
   ]
  },
  {
   "cell_type": "code",
   "execution_count": 18,
   "id": "level-model",
   "metadata": {
    "execution": {
     "iopub.execute_input": "2021-04-26T05:55:01.853073Z",
     "iopub.status.busy": "2021-04-26T05:55:01.852570Z",
     "iopub.status.idle": "2021-04-26T05:55:01.856362Z",
     "shell.execute_reply": "2021-04-26T05:55:01.855949Z"
    },
    "papermill": {
     "duration": 0.038777,
     "end_time": "2021-04-26T05:55:01.856480",
     "exception": false,
     "start_time": "2021-04-26T05:55:01.817703",
     "status": "completed"
    },
    "tags": []
   },
   "outputs": [],
   "source": [
    "from sklearn import metrics  \n",
    "from sklearn.metrics import accuracy_score\n",
    "import numpy as np"
   ]
  },
  {
   "cell_type": "code",
   "execution_count": 19,
   "id": "prospective-eagle",
   "metadata": {
    "execution": {
     "iopub.execute_input": "2021-04-26T05:55:01.963896Z",
     "iopub.status.busy": "2021-04-26T05:55:01.963078Z",
     "iopub.status.idle": "2021-04-26T05:55:01.966938Z",
     "shell.execute_reply": "2021-04-26T05:55:01.967336Z"
    },
    "papermill": {
     "duration": 0.064126,
     "end_time": "2021-04-26T05:55:01.967483",
     "exception": false,
     "start_time": "2021-04-26T05:55:01.903357",
     "status": "completed"
    },
    "tags": []
   },
   "outputs": [],
   "source": [
    "params = {\n",
    "    'metric': 'binary_logloss',\n",
    "    'n_estimators': N_ESTIMATORS,\n",
    "    'objective': 'binary',\n",
    "    'random_state': SEED,\n",
    "    'learning_rate': 0.01,\n",
    "    'min_child_samples': 150,\n",
    "    'reg_alpha': 3e-5,\n",
    "    'reg_lambda': 9e-2,\n",
    "    'num_leaves': 20,\n",
    "    'max_depth': 16,\n",
    "    'colsample_bytree': 0.8,\n",
    "    'subsample': 0.8,\n",
    "    'subsample_freq': 2,\n",
    "    'max_bin': 240,\n",
    "}"
   ]
  },
  {
   "cell_type": "code",
   "execution_count": 20,
   "id": "concrete-integration",
   "metadata": {
    "execution": {
     "iopub.execute_input": "2021-04-26T05:55:02.076931Z",
     "iopub.status.busy": "2021-04-26T05:55:02.076167Z",
     "iopub.status.idle": "2021-04-26T05:55:14.941946Z",
     "shell.execute_reply": "2021-04-26T05:55:14.942729Z"
    },
    "papermill": {
     "duration": 12.92255,
     "end_time": "2021-04-26T05:55:14.942956",
     "exception": false,
     "start_time": "2021-04-26T05:55:02.020406",
     "status": "completed"
    },
    "tags": []
   },
   "outputs": [
    {
     "name": "stdout",
     "output_type": "stream",
     "text": [
      "R2 :  0.78112\n"
     ]
    }
   ],
   "source": [
    "lgbm_model=lgb.LGBMClassifier(**params)\n",
    "lgbm_model.fit(X_train,y_train)\n",
    "lgbm_pred=lgbm_model.predict(X_valid)\n",
    "\n",
    "lgbm_R2=metrics.accuracy_score(y_valid,lgbm_pred)\n",
    "#lgbm_rmse = np.sqrt(mean_squared_error(lgbm_pred,y_valid))\n",
    "print('R2 : ',lgbm_R2)\n",
    "#print(\"RMSE : \", lgbm_rmse)"
   ]
  },
  {
   "cell_type": "code",
   "execution_count": null,
   "id": "sized-macedonia",
   "metadata": {
    "papermill": {
     "duration": 0.032439,
     "end_time": "2021-04-26T05:55:15.010005",
     "exception": false,
     "start_time": "2021-04-26T05:55:14.977566",
     "status": "completed"
    },
    "tags": []
   },
   "outputs": [],
   "source": []
  },
  {
   "cell_type": "code",
   "execution_count": 21,
   "id": "higher-thirty",
   "metadata": {
    "execution": {
     "iopub.execute_input": "2021-04-26T05:55:15.080924Z",
     "iopub.status.busy": "2021-04-26T05:55:15.080319Z",
     "iopub.status.idle": "2021-04-26T05:55:15.083690Z",
     "shell.execute_reply": "2021-04-26T05:55:15.084314Z"
    },
    "papermill": {
     "duration": 0.042362,
     "end_time": "2021-04-26T05:55:15.084496",
     "exception": false,
     "start_time": "2021-04-26T05:55:15.042134",
     "status": "completed"
    },
    "tags": []
   },
   "outputs": [
    {
     "name": "stdout",
     "output_type": "stream",
     "text": [
      "17\n",
      "Index(['Age', 'SibSp', 'Fare', 'Name', 'Ticket', 'Sex', 'Pclass', 'Embarked',\n",
      "       'Cabin_A', 'Cabin_B', 'Cabin_C', 'Cabin_D', 'Cabin_E', 'Cabin_F',\n",
      "       'Cabin_G', 'Cabin_T', 'Cabin_X'],\n",
      "      dtype='object')\n"
     ]
    }
   ],
   "source": [
    "print(len(X_train.columns))\n",
    "print(X_train.columns)"
   ]
  },
  {
   "cell_type": "code",
   "execution_count": 22,
   "id": "universal-correspondence",
   "metadata": {
    "execution": {
     "iopub.execute_input": "2021-04-26T05:55:15.157662Z",
     "iopub.status.busy": "2021-04-26T05:55:15.156894Z",
     "iopub.status.idle": "2021-04-26T05:55:15.159691Z",
     "shell.execute_reply": "2021-04-26T05:55:15.160306Z"
    },
    "papermill": {
     "duration": 0.04147,
     "end_time": "2021-04-26T05:55:15.160446",
     "exception": false,
     "start_time": "2021-04-26T05:55:15.118976",
     "status": "completed"
    },
    "tags": []
   },
   "outputs": [],
   "source": [
    "def cal_adjust_r2(r2):\n",
    "    n=80000\n",
    "    k= len(X_train.columns)\n",
    "    temp=(1-r2)*(n-1)\n",
    "    temp2=n-k-1\n",
    "    ad_r2=1-(temp/temp2)\n",
    "    return ad_r2"
   ]
  },
  {
   "cell_type": "code",
   "execution_count": 23,
   "id": "afraid-soccer",
   "metadata": {
    "execution": {
     "iopub.execute_input": "2021-04-26T05:55:15.237493Z",
     "iopub.status.busy": "2021-04-26T05:55:15.236964Z",
     "iopub.status.idle": "2021-04-26T05:55:15.239679Z",
     "shell.execute_reply": "2021-04-26T05:55:15.240166Z"
    },
    "papermill": {
     "duration": 0.041969,
     "end_time": "2021-04-26T05:55:15.240301",
     "exception": false,
     "start_time": "2021-04-26T05:55:15.198332",
     "status": "completed"
    },
    "tags": []
   },
   "outputs": [
    {
     "name": "stdout",
     "output_type": "stream",
     "text": [
      "0.7810734775324448\n"
     ]
    }
   ],
   "source": [
    "ad_r2_lgbm=cal_adjust_r2(lgbm_R2)\n",
    "print(ad_r2_lgbm)"
   ]
  },
  {
   "cell_type": "markdown",
   "id": "incoming-kinase",
   "metadata": {
    "papermill": {
     "duration": 0.032895,
     "end_time": "2021-04-26T05:55:15.306213",
     "exception": false,
     "start_time": "2021-04-26T05:55:15.273318",
     "status": "completed"
    },
    "tags": []
   },
   "source": []
  },
  {
   "cell_type": "code",
   "execution_count": 24,
   "id": "dated-baghdad",
   "metadata": {
    "execution": {
     "iopub.execute_input": "2021-04-26T05:55:15.378249Z",
     "iopub.status.busy": "2021-04-26T05:55:15.377594Z",
     "iopub.status.idle": "2021-04-26T05:55:15.380872Z",
     "shell.execute_reply": "2021-04-26T05:55:15.380486Z"
    },
    "papermill": {
     "duration": 0.042039,
     "end_time": "2021-04-26T05:55:15.380985",
     "exception": false,
     "start_time": "2021-04-26T05:55:15.338946",
     "status": "completed"
    },
    "tags": []
   },
   "outputs": [],
   "source": [
    "#NOT Pseudo\n",
    "train_kf_feature=train.drop(drop_list,axis=1)\n",
    "train_kf_label=train.loc[:,'Survived']"
   ]
  },
  {
   "cell_type": "code",
   "execution_count": 25,
   "id": "traditional-parking",
   "metadata": {
    "execution": {
     "iopub.execute_input": "2021-04-26T05:55:15.450756Z",
     "iopub.status.busy": "2021-04-26T05:55:15.450088Z",
     "iopub.status.idle": "2021-04-26T05:55:15.452899Z",
     "shell.execute_reply": "2021-04-26T05:55:15.452402Z"
    },
    "papermill": {
     "duration": 0.038661,
     "end_time": "2021-04-26T05:55:15.452997",
     "exception": false,
     "start_time": "2021-04-26T05:55:15.414336",
     "status": "completed"
    },
    "tags": []
   },
   "outputs": [],
   "source": [
    "#Pseudo\n",
    "# train_kf_feature=all_df.drop(drop_list,axis=1)\n",
    "# train_kf_label=all_df.loc[:,'Survived']"
   ]
  },
  {
   "cell_type": "code",
   "execution_count": 26,
   "id": "million-wallet",
   "metadata": {
    "execution": {
     "iopub.execute_input": "2021-04-26T05:55:15.528143Z",
     "iopub.status.busy": "2021-04-26T05:55:15.527410Z",
     "iopub.status.idle": "2021-04-26T05:56:23.737040Z",
     "shell.execute_reply": "2021-04-26T05:56:23.737986Z"
    },
    "papermill": {
     "duration": 68.252067,
     "end_time": "2021-04-26T05:56:23.738277",
     "exception": false,
     "start_time": "2021-04-26T05:55:15.486210",
     "status": "completed"
    },
    "tags": []
   },
   "outputs": [
    {
     "name": "stdout",
     "output_type": "stream",
     "text": [
      "\n",
      " 1번째  교차 검증 정확도 : 0.78045 , 학습 데이터 크기:80000, 검증 데이터 크기 :20000 \n",
      "\n",
      " 2번째  교차 검증 정확도 : 0.7829 , 학습 데이터 크기:80000, 검증 데이터 크기 :20000 \n",
      "\n",
      " 3번째  교차 검증 정확도 : 0.78255 , 학습 데이터 크기:80000, 검증 데이터 크기 :20000 \n",
      "\n",
      " 4번째  교차 검증 정확도 : 0.7817 , 학습 데이터 크기:80000, 검증 데이터 크기 :20000 \n",
      "\n",
      " 5번째  교차 검증 정확도 : 0.78145 , 학습 데이터 크기:80000, 검증 데이터 크기 :20000 \n",
      "\n",
      " 평균 검증 정확도 :  0.7818099999999999\n"
     ]
    }
   ],
   "source": [
    "n_iter=0\n",
    "kfold=StratifiedKFold(n_splits=5)\n",
    "cv_accuracy=[]\n",
    "feature_importances = pd.DataFrame()\n",
    "\n",
    "for train_idx, test_idx in kfold.split(train_kf_feature,train_kf_label):\n",
    "\n",
    "    X_train=train_kf_feature.iloc[train_idx]\n",
    "    X_test=train_kf_feature.iloc[test_idx]\n",
    "    y_train,y_test=train_kf_label.iloc[train_idx],train_kf_label.iloc[test_idx]\n",
    "    #학습 진행\n",
    "    lgbm_model.fit(X_train,y_train)\n",
    "    #예측\n",
    "    fold_pred=lgbm_model.predict(X_test)\n",
    "    \n",
    "    #정확도\n",
    "    n_iter+=1\n",
    "    fold_accuracy=metrics.accuracy_score(y_test,fold_pred)\n",
    "    print(\"\\n {}번째  교차 검증 정확도 : {} , 학습 데이터 크기:{}, 검증 데이터 크기 :{} \".\n",
    "          format(n_iter,fold_accuracy,X_train.shape[0],X_test.shape[0]))\n",
    "    cv_accuracy.append(fold_accuracy)\n",
    "    \n",
    "    #중요도 \n",
    "    fi_tmp = pd.DataFrame()\n",
    "    fi_tmp[\"feature\"] = lgbm_model.feature_name_\n",
    "    fi_tmp[\"importance\"] = lgbm_model.feature_importances_\n",
    "    feature_importances = feature_importances.append(fi_tmp)\n",
    "\n",
    "print('\\n 평균 검증 정확도 : ',np.mean(cv_accuracy))\n",
    "    "
   ]
  },
  {
   "cell_type": "code",
   "execution_count": 27,
   "id": "asian-month",
   "metadata": {
    "execution": {
     "iopub.execute_input": "2021-04-26T05:56:23.846583Z",
     "iopub.status.busy": "2021-04-26T05:56:23.845449Z",
     "iopub.status.idle": "2021-04-26T05:56:24.643899Z",
     "shell.execute_reply": "2021-04-26T05:56:24.642940Z"
    },
    "papermill": {
     "duration": 0.869657,
     "end_time": "2021-04-26T05:56:24.644043",
     "exception": false,
     "start_time": "2021-04-26T05:56:23.774386",
     "status": "completed"
    },
    "tags": []
   },
   "outputs": [
    {
     "data": {
      "image/png": "[encoded data removed]",
      "text/plain": [
       "<Figure size 720x720 with 1 Axes>"
      ]
     },
     "metadata": {
      "needs_background": "light"
     },
     "output_type": "display_data"
    }
   ],
   "source": [
    "order = list(feature_importances.groupby(\"feature\").\n",
    "             mean().sort_values(\"importance\", ascending=False).index)\n",
    "plt.figure(figsize=(10, 10))\n",
    "sns.barplot(x=\"importance\", y=\"feature\", data=feature_importances, order=order)\n",
    "plt.title(\"{} importance\".format(\"LGBMRegressor\"))\n",
    "plt.tight_layout()"
   ]
  },
  {
   "cell_type": "markdown",
   "id": "substantial-growing",
   "metadata": {
    "papermill": {
     "duration": 0.035519,
     "end_time": "2021-04-26T05:56:24.716003",
     "exception": false,
     "start_time": "2021-04-26T05:56:24.680484",
     "status": "completed"
    },
    "tags": []
   },
   "source": [
    "### CATBoost\n"
   ]
  },
  {
   "cell_type": "code",
   "execution_count": 28,
   "id": "brief-midnight",
   "metadata": {
    "execution": {
     "iopub.execute_input": "2021-04-26T05:56:24.794670Z",
     "iopub.status.busy": "2021-04-26T05:56:24.793076Z",
     "iopub.status.idle": "2021-04-26T05:56:24.795329Z",
     "shell.execute_reply": "2021-04-26T05:56:24.795760Z"
    },
    "papermill": {
     "duration": 0.044136,
     "end_time": "2021-04-26T05:56:24.795889",
     "exception": false,
     "start_time": "2021-04-26T05:56:24.751753",
     "status": "completed"
    },
    "tags": []
   },
   "outputs": [],
   "source": [
    "params_cat = {\n",
    "    'bootstrap_type': 'Poisson',\n",
    "    'loss_function': 'Logloss',\n",
    "    'eval_metric': 'Logloss',\n",
    "    'random_seed': SEED,\n",
    "    'task_type': 'GPU',\n",
    "    'max_depth': 8,\n",
    "    'learning_rate': 0.01,\n",
    "    'n_estimators': N_ESTIMATORS,\n",
    "    'max_bin': 280,\n",
    "    'min_data_in_leaf': 64,\n",
    "    'l2_leaf_reg': 0.01,\n",
    "    'subsample': 0.8\n",
    "}"
   ]
  },
  {
   "cell_type": "code",
   "execution_count": 29,
   "id": "tutorial-pointer",
   "metadata": {
    "execution": {
     "iopub.execute_input": "2021-04-26T05:56:24.872447Z",
     "iopub.status.busy": "2021-04-26T05:56:24.871770Z",
     "iopub.status.idle": "2021-04-26T05:56:24.892148Z",
     "shell.execute_reply": "2021-04-26T05:56:24.891710Z"
    },
    "papermill": {
     "duration": 0.059943,
     "end_time": "2021-04-26T05:56:24.892271",
     "exception": false,
     "start_time": "2021-04-26T05:56:24.832328",
     "status": "completed"
    },
    "tags": []
   },
   "outputs": [],
   "source": [
    "#새로운 트레인 valid 셋\n",
    "X_train, X_valid, y_train, y_valid = train_test_split(X,y,test_size=0.25, random_state=21)\n"
   ]
  },
  {
   "cell_type": "code",
   "execution_count": 30,
   "id": "capital-habitat",
   "metadata": {
    "execution": {
     "iopub.execute_input": "2021-04-26T05:56:24.993787Z",
     "iopub.status.busy": "2021-04-26T05:56:24.993189Z",
     "iopub.status.idle": "2021-04-26T05:57:39.547738Z",
     "shell.execute_reply": "2021-04-26T05:57:39.548744Z"
    },
    "papermill": {
     "duration": 74.621003,
     "end_time": "2021-04-26T05:57:39.548996",
     "exception": false,
     "start_time": "2021-04-26T05:56:24.927993",
     "status": "completed"
    },
    "tags": []
   },
   "outputs": [
    {
     "name": "stdout",
     "output_type": "stream",
     "text": [
      "0:\tlearn: 0.6881876\ttotal: 21.6ms\tremaining: 21.6s\n",
      "300:\tlearn: 0.4671065\ttotal: 3.61s\tremaining: 8.39s\n",
      "600:\tlearn: 0.4580581\ttotal: 7.75s\tremaining: 5.15s\n",
      "900:\tlearn: 0.4513600\ttotal: 11.6s\tremaining: 1.28s\n",
      "999:\tlearn: 0.4494353\ttotal: 12.8s\tremaining: 0us\n",
      "\n",
      "정확도:  0.78088\n",
      "R2 :  0.78088\n"
     ]
    }
   ],
   "source": [
    "\n",
    "cat_model=ctb.CatBoostClassifier(**params_cat)\n",
    "cat_model.fit(X_train, y_train,verbose=300)\n",
    "cat_pred=cat_model.predict(X_valid)\n",
    "print(\"\\n정확도: \", metrics.accuracy_score(y_valid, cat_pred))\n",
    "cat_R2=metrics.accuracy_score(y_valid,cat_pred)\n",
    "#lgbm_rmse = np.sqrt(mean_squared_error(lgbm_pred,y_valid))\n",
    "print('R2 : ',cat_R2)"
   ]
  },
  {
   "cell_type": "code",
   "execution_count": 31,
   "id": "favorite-cosmetic",
   "metadata": {
    "execution": {
     "iopub.execute_input": "2021-04-26T05:57:39.668378Z",
     "iopub.status.busy": "2021-04-26T05:57:39.667664Z",
     "iopub.status.idle": "2021-04-26T05:58:45.815783Z",
     "shell.execute_reply": "2021-04-26T05:58:45.816522Z"
    },
    "papermill": {
     "duration": 66.212613,
     "end_time": "2021-04-26T05:58:45.816742",
     "exception": false,
     "start_time": "2021-04-26T05:57:39.604129",
     "status": "completed"
    },
    "tags": []
   },
   "outputs": [
    {
     "name": "stdout",
     "output_type": "stream",
     "text": [
      "0:\tlearn: 0.6881429\ttotal: 13ms\tremaining: 13s\n",
      "500:\tlearn: 0.4620239\ttotal: 5.81s\tremaining: 5.79s\n",
      "999:\tlearn: 0.4511769\ttotal: 12.1s\tremaining: 0us\n",
      "\n",
      " 6번째  교차 검증 정확도 : 0.779 , 학습 데이터 크기:80000, 검증 데이터 크기 :20000 \n",
      "0:\tlearn: 0.6881913\ttotal: 12.9ms\tremaining: 12.9s\n",
      "500:\tlearn: 0.4635385\ttotal: 6.34s\tremaining: 6.31s\n",
      "999:\tlearn: 0.4528270\ttotal: 13.2s\tremaining: 0us\n",
      "\n",
      " 7번째  교차 검증 정확도 : 0.78315 , 학습 데이터 크기:80000, 검증 데이터 크기 :20000 \n",
      "0:\tlearn: 0.6881969\ttotal: 12.8ms\tremaining: 12.8s\n",
      "500:\tlearn: 0.4636728\ttotal: 6.19s\tremaining: 6.17s\n",
      "999:\tlearn: 0.4529596\ttotal: 12.1s\tremaining: 0us\n",
      "\n",
      " 8번째  교차 검증 정확도 : 0.78255 , 학습 데이터 크기:80000, 검증 데이터 크기 :20000 \n",
      "0:\tlearn: 0.6882583\ttotal: 12.8ms\tremaining: 12.8s\n",
      "500:\tlearn: 0.4622361\ttotal: 6.19s\tremaining: 6.16s\n",
      "999:\tlearn: 0.4513745\ttotal: 12.5s\tremaining: 0us\n",
      "\n",
      " 9번째  교차 검증 정확도 : 0.78165 , 학습 데이터 크기:80000, 검증 데이터 크기 :20000 \n",
      "0:\tlearn: 0.6882789\ttotal: 13ms\tremaining: 13s\n",
      "500:\tlearn: 0.4630511\ttotal: 6.65s\tremaining: 6.62s\n",
      "999:\tlearn: 0.4523127\ttotal: 12.8s\tremaining: 0us\n",
      "\n",
      " 10번째  교차 검증 정확도 : 0.7809 , 학습 데이터 크기:80000, 검증 데이터 크기 :20000 \n",
      "\n",
      " 평균 검증 정확도 :  0.78145\n"
     ]
    }
   ],
   "source": [
    "cv_accuracy=[]\n",
    "feature_importances = pd.DataFrame()\n",
    "\n",
    "for train_idx, test_idx in kfold.split(train_kf_feature,train_kf_label):\n",
    "\n",
    "    X_train=train_kf_feature.iloc[train_idx]\n",
    "    X_test=train_kf_feature.iloc[test_idx]\n",
    "    y_train,y_test=train_kf_label.iloc[train_idx],train_kf_label.iloc[test_idx]\n",
    "    #학습 진행\n",
    "    cat_model.fit(X_train,y_train,verbose=500)\n",
    "    #예측\n",
    "    fold_pred=cat_model.predict(X_test)\n",
    "    \n",
    "    #정확도\n",
    "    n_iter+=1\n",
    "    fold_accuracy=metrics.accuracy_score(y_test,fold_pred)\n",
    "    print(\"\\n {}번째  교차 검증 정확도 : {} , 학습 데이터 크기:{}, 검증 데이터 크기 :{} \".\n",
    "          format(n_iter,fold_accuracy,X_train.shape[0],X_test.shape[0]))\n",
    "    cv_accuracy.append(fold_accuracy)\n",
    "    \n",
    "    #중요도 . lgbm이랑 명령어가 다르다.\n",
    "    fi_tmp = pd.DataFrame()\n",
    "    fi_tmp[\"feature\"] = X_test.columns.to_list()\n",
    "    fi_tmp[\"importance\"] = cat_model.get_feature_importance()\n",
    "    feature_importances = feature_importances.append(fi_tmp)\n",
    "\n",
    "print('\\n 평균 검증 정확도 : ',np.mean(cv_accuracy))"
   ]
  },
  {
   "cell_type": "code",
   "execution_count": 32,
   "id": "latin-bearing",
   "metadata": {
    "execution": {
     "iopub.execute_input": "2021-04-26T05:58:45.945828Z",
     "iopub.status.busy": "2021-04-26T05:58:45.945005Z",
     "iopub.status.idle": "2021-04-26T05:58:46.902113Z",
     "shell.execute_reply": "2021-04-26T05:58:46.901076Z"
    },
    "papermill": {
     "duration": 1.023477,
     "end_time": "2021-04-26T05:58:46.902273",
     "exception": false,
     "start_time": "2021-04-26T05:58:45.878796",
     "status": "completed"
    },
    "tags": []
   },
   "outputs": [
    {
     "data": {
      "image/png": "[encoded data removed]",
      "text/plain": [
       "<Figure size 720x720 with 1 Axes>"
      ]
     },
     "metadata": {
      "needs_background": "light"
     },
     "output_type": "display_data"
    }
   ],
   "source": [
    "# just to get ideas to improve\n",
    "order = list(feature_importances.groupby(\"feature\").mean().sort_values(\"importance\", ascending=False).index)\n",
    "plt.figure(figsize=(10, 10))\n",
    "sns.barplot(x=\"importance\", y=\"feature\", data=feature_importances, order=order)\n",
    "plt.title(\"{} importance\".format(\"CatBoostClassifier\"))\n",
    "plt.tight_layout()"
   ]
  },
  {
   "cell_type": "markdown",
   "id": "republican-taxation",
   "metadata": {
    "papermill": {
     "duration": 0.042041,
     "end_time": "2021-04-26T05:58:46.986830",
     "exception": false,
     "start_time": "2021-04-26T05:58:46.944789",
     "status": "completed"
    },
    "tags": []
   },
   "source": [
    "## Submission\n"
   ]
  },
  {
   "cell_type": "code",
   "execution_count": 33,
   "id": "suburban-norfolk",
   "metadata": {
    "execution": {
     "iopub.execute_input": "2021-04-26T05:58:47.078135Z",
     "iopub.status.busy": "2021-04-26T05:58:47.076347Z",
     "iopub.status.idle": "2021-04-26T05:58:47.078707Z",
     "shell.execute_reply": "2021-04-26T05:58:47.079113Z"
    },
    "papermill": {
     "duration": 0.050036,
     "end_time": "2021-04-26T05:58:47.079277",
     "exception": false,
     "start_time": "2021-04-26T05:58:47.029241",
     "status": "completed"
    },
    "tags": []
   },
   "outputs": [],
   "source": [
    "def create_submission(model, test, test_passenger_id, model_name):\n",
    "    y_pred_test = model.predict_proba(test)[:, 1]\n",
    "    submission = pd.DataFrame(\n",
    "        {\n",
    "            'PassengerId': test_passenger_id, \n",
    "            'Survived': (y_pred_test >= 0.5).astype(int),\n",
    "        }\n",
    "    )\n",
    "    submission.to_csv(f\"submission_{model_name}.csv\", index=False)\n",
    "    \n",
    "    return y_pred_test"
   ]
  },
  {
   "cell_type": "code",
   "execution_count": 34,
   "id": "immediate-monster",
   "metadata": {
    "execution": {
     "iopub.execute_input": "2021-04-26T05:58:47.174578Z",
     "iopub.status.busy": "2021-04-26T05:58:47.173953Z",
     "iopub.status.idle": "2021-04-26T05:58:47.184730Z",
     "shell.execute_reply": "2021-04-26T05:58:47.185202Z"
    },
    "papermill": {
     "duration": 0.063279,
     "end_time": "2021-04-26T05:58:47.185359",
     "exception": false,
     "start_time": "2021-04-26T05:58:47.122080",
     "status": "completed"
    },
    "tags": []
   },
   "outputs": [
    {
     "data": {
      "text/html": [
       "<div>\n",
       "<style scoped>\n",
       "    .dataframe tbody tr th:only-of-type {\n",
       "        vertical-align: middle;\n",
       "    }\n",
       "\n",
       "    .dataframe tbody tr th {\n",
       "        vertical-align: top;\n",
       "    }\n",
       "\n",
       "    .dataframe thead th {\n",
       "        text-align: right;\n",
       "    }\n",
       "</style>\n",
       "<table border=\"1\" class=\"dataframe\">\n",
       "  <thead>\n",
       "    <tr style=\"text-align: right;\">\n",
       "      <th></th>\n",
       "      <th>PassengerId</th>\n",
       "      <th>Pclass</th>\n",
       "      <th>Name</th>\n",
       "      <th>Sex</th>\n",
       "      <th>Age</th>\n",
       "      <th>SibSp</th>\n",
       "      <th>Parch</th>\n",
       "      <th>Ticket</th>\n",
       "      <th>Fare</th>\n",
       "      <th>Cabin</th>\n",
       "      <th>Embarked</th>\n",
       "    </tr>\n",
       "  </thead>\n",
       "  <tbody>\n",
       "    <tr>\n",
       "      <th>0</th>\n",
       "      <td>100000</td>\n",
       "      <td>3</td>\n",
       "      <td>Holliday, Daniel</td>\n",
       "      <td>male</td>\n",
       "      <td>19.0</td>\n",
       "      <td>0</td>\n",
       "      <td>0</td>\n",
       "      <td>24745</td>\n",
       "      <td>63.01</td>\n",
       "      <td>NaN</td>\n",
       "      <td>S</td>\n",
       "    </tr>\n",
       "    <tr>\n",
       "      <th>1</th>\n",
       "      <td>100001</td>\n",
       "      <td>3</td>\n",
       "      <td>Nguyen, Lorraine</td>\n",
       "      <td>female</td>\n",
       "      <td>53.0</td>\n",
       "      <td>0</td>\n",
       "      <td>0</td>\n",
       "      <td>13264</td>\n",
       "      <td>5.81</td>\n",
       "      <td>NaN</td>\n",
       "      <td>S</td>\n",
       "    </tr>\n",
       "    <tr>\n",
       "      <th>2</th>\n",
       "      <td>100002</td>\n",
       "      <td>1</td>\n",
       "      <td>Harris, Heather</td>\n",
       "      <td>female</td>\n",
       "      <td>19.0</td>\n",
       "      <td>0</td>\n",
       "      <td>0</td>\n",
       "      <td>25990</td>\n",
       "      <td>38.91</td>\n",
       "      <td>B15315</td>\n",
       "      <td>C</td>\n",
       "    </tr>\n",
       "    <tr>\n",
       "      <th>3</th>\n",
       "      <td>100003</td>\n",
       "      <td>2</td>\n",
       "      <td>Larsen, Eric</td>\n",
       "      <td>male</td>\n",
       "      <td>25.0</td>\n",
       "      <td>0</td>\n",
       "      <td>0</td>\n",
       "      <td>314011</td>\n",
       "      <td>12.93</td>\n",
       "      <td>NaN</td>\n",
       "      <td>S</td>\n",
       "    </tr>\n",
       "    <tr>\n",
       "      <th>4</th>\n",
       "      <td>100004</td>\n",
       "      <td>1</td>\n",
       "      <td>Cleary, Sarah</td>\n",
       "      <td>female</td>\n",
       "      <td>17.0</td>\n",
       "      <td>0</td>\n",
       "      <td>2</td>\n",
       "      <td>26203</td>\n",
       "      <td>26.89</td>\n",
       "      <td>B22515</td>\n",
       "      <td>C</td>\n",
       "    </tr>\n",
       "  </tbody>\n",
       "</table>\n",
       "</div>"
      ],
      "text/plain": [
       "   PassengerId  Pclass              Name     Sex   Age  SibSp  Parch  Ticket  \\\n",
       "0       100000       3  Holliday, Daniel    male  19.0      0      0   24745   \n",
       "1       100001       3  Nguyen, Lorraine  female  53.0      0      0   13264   \n",
       "2       100002       1   Harris, Heather  female  19.0      0      0   25990   \n",
       "3       100003       2      Larsen, Eric    male  25.0      0      0  314011   \n",
       "4       100004       1     Cleary, Sarah  female  17.0      0      2   26203   \n",
       "\n",
       "    Fare   Cabin Embarked  \n",
       "0  63.01     NaN        S  \n",
       "1   5.81     NaN        S  \n",
       "2  38.91  B15315        C  \n",
       "3  12.93     NaN        S  \n",
       "4  26.89  B22515        C  "
      ]
     },
     "execution_count": 34,
     "metadata": {},
     "output_type": "execute_result"
    }
   ],
   "source": [
    "test_df.head()"
   ]
  },
  {
   "cell_type": "code",
   "execution_count": 35,
   "id": "italian-coordinate",
   "metadata": {
    "execution": {
     "iopub.execute_input": "2021-04-26T05:58:47.280794Z",
     "iopub.status.busy": "2021-04-26T05:58:47.279806Z",
     "iopub.status.idle": "2021-04-26T05:58:47.297453Z",
     "shell.execute_reply": "2021-04-26T05:58:47.297865Z"
    },
    "papermill": {
     "duration": 0.066541,
     "end_time": "2021-04-26T05:58:47.297996",
     "exception": false,
     "start_time": "2021-04-26T05:58:47.231455",
     "status": "completed"
    },
    "tags": []
   },
   "outputs": [
    {
     "data": {
      "text/html": [
       "<div>\n",
       "<style scoped>\n",
       "    .dataframe tbody tr th:only-of-type {\n",
       "        vertical-align: middle;\n",
       "    }\n",
       "\n",
       "    .dataframe tbody tr th {\n",
       "        vertical-align: top;\n",
       "    }\n",
       "\n",
       "    .dataframe thead th {\n",
       "        text-align: right;\n",
       "    }\n",
       "</style>\n",
       "<table border=\"1\" class=\"dataframe\">\n",
       "  <thead>\n",
       "    <tr style=\"text-align: right;\">\n",
       "      <th></th>\n",
       "      <th>Age</th>\n",
       "      <th>SibSp</th>\n",
       "      <th>Fare</th>\n",
       "      <th>Name</th>\n",
       "      <th>Ticket</th>\n",
       "      <th>Sex</th>\n",
       "      <th>Pclass</th>\n",
       "      <th>Embarked</th>\n",
       "      <th>Cabin_A</th>\n",
       "      <th>Cabin_B</th>\n",
       "      <th>Cabin_C</th>\n",
       "      <th>Cabin_D</th>\n",
       "      <th>Cabin_E</th>\n",
       "      <th>Cabin_F</th>\n",
       "      <th>Cabin_G</th>\n",
       "      <th>Cabin_T</th>\n",
       "      <th>Cabin_X</th>\n",
       "    </tr>\n",
       "  </thead>\n",
       "  <tbody>\n",
       "    <tr>\n",
       "      <th>100000</th>\n",
       "      <td>-0.937422</td>\n",
       "      <td>-0.539572</td>\n",
       "      <td>0.949786</td>\n",
       "      <td>10830</td>\n",
       "      <td>49</td>\n",
       "      <td>1</td>\n",
       "      <td>2</td>\n",
       "      <td>2</td>\n",
       "      <td>0</td>\n",
       "      <td>0</td>\n",
       "      <td>0</td>\n",
       "      <td>0</td>\n",
       "      <td>0</td>\n",
       "      <td>0</td>\n",
       "      <td>0</td>\n",
       "      <td>0</td>\n",
       "      <td>1</td>\n",
       "    </tr>\n",
       "    <tr>\n",
       "      <th>100001</th>\n",
       "      <td>1.123570</td>\n",
       "      <td>-0.539572</td>\n",
       "      <td>-1.273379</td>\n",
       "      <td>17134</td>\n",
       "      <td>49</td>\n",
       "      <td>0</td>\n",
       "      <td>2</td>\n",
       "      <td>2</td>\n",
       "      <td>0</td>\n",
       "      <td>0</td>\n",
       "      <td>0</td>\n",
       "      <td>0</td>\n",
       "      <td>0</td>\n",
       "      <td>0</td>\n",
       "      <td>0</td>\n",
       "      <td>0</td>\n",
       "      <td>1</td>\n",
       "    </tr>\n",
       "    <tr>\n",
       "      <th>100002</th>\n",
       "      <td>-0.937422</td>\n",
       "      <td>-0.539572</td>\n",
       "      <td>0.481059</td>\n",
       "      <td>9978</td>\n",
       "      <td>49</td>\n",
       "      <td>0</td>\n",
       "      <td>0</td>\n",
       "      <td>0</td>\n",
       "      <td>0</td>\n",
       "      <td>1</td>\n",
       "      <td>0</td>\n",
       "      <td>0</td>\n",
       "      <td>0</td>\n",
       "      <td>0</td>\n",
       "      <td>0</td>\n",
       "      <td>0</td>\n",
       "      <td>0</td>\n",
       "    </tr>\n",
       "    <tr>\n",
       "      <th>100003</th>\n",
       "      <td>-0.573717</td>\n",
       "      <td>-0.539572</td>\n",
       "      <td>-0.563310</td>\n",
       "      <td>13303</td>\n",
       "      <td>49</td>\n",
       "      <td>1</td>\n",
       "      <td>1</td>\n",
       "      <td>2</td>\n",
       "      <td>0</td>\n",
       "      <td>0</td>\n",
       "      <td>0</td>\n",
       "      <td>0</td>\n",
       "      <td>0</td>\n",
       "      <td>0</td>\n",
       "      <td>0</td>\n",
       "      <td>0</td>\n",
       "      <td>1</td>\n",
       "    </tr>\n",
       "    <tr>\n",
       "      <th>100004</th>\n",
       "      <td>-1.058657</td>\n",
       "      <td>-0.539572</td>\n",
       "      <td>0.125497</td>\n",
       "      <td>4406</td>\n",
       "      <td>49</td>\n",
       "      <td>0</td>\n",
       "      <td>0</td>\n",
       "      <td>0</td>\n",
       "      <td>0</td>\n",
       "      <td>1</td>\n",
       "      <td>0</td>\n",
       "      <td>0</td>\n",
       "      <td>0</td>\n",
       "      <td>0</td>\n",
       "      <td>0</td>\n",
       "      <td>0</td>\n",
       "      <td>0</td>\n",
       "    </tr>\n",
       "  </tbody>\n",
       "</table>\n",
       "</div>"
      ],
      "text/plain": [
       "             Age     SibSp      Fare   Name  Ticket  Sex  Pclass  Embarked  \\\n",
       "100000 -0.937422 -0.539572  0.949786  10830      49    1       2         2   \n",
       "100001  1.123570 -0.539572 -1.273379  17134      49    0       2         2   \n",
       "100002 -0.937422 -0.539572  0.481059   9978      49    0       0         0   \n",
       "100003 -0.573717 -0.539572 -0.563310  13303      49    1       1         2   \n",
       "100004 -1.058657 -0.539572  0.125497   4406      49    0       0         0   \n",
       "\n",
       "        Cabin_A  Cabin_B  Cabin_C  Cabin_D  Cabin_E  Cabin_F  Cabin_G  \\\n",
       "100000        0        0        0        0        0        0        0   \n",
       "100001        0        0        0        0        0        0        0   \n",
       "100002        0        1        0        0        0        0        0   \n",
       "100003        0        0        0        0        0        0        0   \n",
       "100004        0        1        0        0        0        0        0   \n",
       "\n",
       "        Cabin_T  Cabin_X  \n",
       "100000        0        1  \n",
       "100001        0        1  \n",
       "100002        0        0  \n",
       "100003        0        1  \n",
       "100004        0        0  "
      ]
     },
     "execution_count": 35,
     "metadata": {},
     "output_type": "execute_result"
    }
   ],
   "source": [
    "#X_test=test.drop('Pclass',axis=1)\n",
    "test = all_df.iloc[100000:, :] #100000개~ \n",
    "X_test=test.drop(drop_list,axis=1)\n",
    "X_test.head()"
   ]
  },
  {
   "cell_type": "code",
   "execution_count": 36,
   "id": "special-blade",
   "metadata": {
    "execution": {
     "iopub.execute_input": "2021-04-26T05:58:47.394734Z",
     "iopub.status.busy": "2021-04-26T05:58:47.393814Z",
     "iopub.status.idle": "2021-04-26T05:58:53.125246Z",
     "shell.execute_reply": "2021-04-26T05:58:53.126428Z"
    },
    "papermill": {
     "duration": 5.781442,
     "end_time": "2021-04-26T05:58:53.126642",
     "exception": false,
     "start_time": "2021-04-26T05:58:47.345200",
     "status": "completed"
    },
    "tags": []
   },
   "outputs": [],
   "source": [
    "test_pred_lightgbm = create_submission(\n",
    "    lgbm_model, X_test, test_df[\"PassengerId\"], \"lightgbm\"\n",
    ")\n",
    "test_pred_catboost = create_submission(\n",
    "    cat_model, X_test, test_df[\"PassengerId\"], \"catboost\"\n",
    ")"
   ]
  },
  {
   "cell_type": "code",
   "execution_count": 37,
   "id": "rough-heading",
   "metadata": {
    "execution": {
     "iopub.execute_input": "2021-04-26T05:58:53.281064Z",
     "iopub.status.busy": "2021-04-26T05:58:53.280124Z",
     "iopub.status.idle": "2021-04-26T05:58:53.282689Z",
     "shell.execute_reply": "2021-04-26T05:58:53.281868Z"
    },
    "papermill": {
     "duration": 0.082608,
     "end_time": "2021-04-26T05:58:53.282873",
     "exception": false,
     "start_time": "2021-04-26T05:58:53.200265",
     "status": "completed"
    },
    "tags": []
   },
   "outputs": [],
   "source": [
    "test_pred_merged = (\n",
    "\n",
    "    test_pred_lightgbm + \n",
    "    test_pred_catboost \n",
    ")\n",
    "test_pred_merged = np.round(test_pred_merged / 2)"
   ]
  },
  {
   "cell_type": "code",
   "execution_count": 38,
   "id": "joined-conducting",
   "metadata": {
    "execution": {
     "iopub.execute_input": "2021-04-26T05:58:53.443285Z",
     "iopub.status.busy": "2021-04-26T05:58:53.442487Z",
     "iopub.status.idle": "2021-04-26T05:58:53.604246Z",
     "shell.execute_reply": "2021-04-26T05:58:53.603773Z"
    },
    "papermill": {
     "duration": 0.241937,
     "end_time": "2021-04-26T05:58:53.604389",
     "exception": false,
     "start_time": "2021-04-26T05:58:53.362452",
     "status": "completed"
    },
    "tags": []
   },
   "outputs": [],
   "source": [
    "submission = pd.DataFrame(\n",
    "    {\n",
    "        'PassengerId': test_df[\"PassengerId\"], \n",
    "        'Survived': test_pred_merged.astype(int),\n",
    "    }\n",
    ")\n",
    "submission.to_csv(f\"submission_merged3.csv\", index=False)"
   ]
  }
 ],
 "metadata": {
  "kernelspec": {
   "display_name": "Python 3",
   "language": "python",
   "name": "python3"
  },
  "language_info": {
   "codemirror_mode": {
    "name": "ipython",
    "version": 3
   },
   "file_extension": ".py",
   "mimetype": "text/x-python",
   "name": "python",
   "nbconvert_exporter": "python",
   "pygments_lexer": "ipython3",
   "version": "3.7.9"
  },
  "papermill": {
   "default_parameters": {},
   "duration": 242.411991,
   "end_time": "2021-04-26T05:58:54.558593",
   "environment_variables": {},
   "exception": null,
   "input_path": "__notebook__.ipynb",
   "output_path": "__notebook__.ipynb",
   "parameters": {},
   "start_time": "2021-04-26T05:54:52.146602",
   "version": "2.3.2"
  }
 },
 "nbformat": 4,
 "nbformat_minor": 5
}
